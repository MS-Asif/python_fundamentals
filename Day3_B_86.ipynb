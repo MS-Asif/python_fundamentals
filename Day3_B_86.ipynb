{
 "cells": [
  {
   "cell_type": "code",
   "execution_count": null,
   "id": "58cec59d",
   "metadata": {},
   "outputs": [],
   "source": [
    "Introduction to f string:"
   ]
  },
  {
   "cell_type": "code",
   "execution_count": null,
   "id": "819696ae",
   "metadata": {},
   "outputs": [],
   "source": [
    "syntax : f \"custom message {place_holder_1} {place_holder_2} {place_holder_n}\""
   ]
  },
  {
   "cell_type": "code",
   "execution_count": null,
   "id": "523279a9",
   "metadata": {},
   "outputs": [],
   "source": []
  },
  {
   "cell_type": "code",
   "execution_count": 10,
   "id": "095c3acf",
   "metadata": {},
   "outputs": [
    {
     "name": "stdout",
     "output_type": "stream",
     "text": [
      "asif\n",
      "shaik\n"
     ]
    }
   ],
   "source": [
    "firstname = 'asif'\n",
    "lastname = 'shaik'\n",
    "print(firstname)\n",
    "print(lastname)"
   ]
  },
  {
   "cell_type": "code",
   "execution_count": null,
   "id": "336aa02c",
   "metadata": {},
   "outputs": [],
   "source": [
    "# requirement is to pull fullname from the above variables"
   ]
  },
  {
   "cell_type": "code",
   "execution_count": 11,
   "id": "45d560e9",
   "metadata": {},
   "outputs": [
    {
     "name": "stdout",
     "output_type": "stream",
     "text": [
      " asif shaik\n"
     ]
    }
   ],
   "source": [
    "fullname = f\" {firstname} {lastname}\"\n",
    "print(fullname)"
   ]
  },
  {
   "cell_type": "code",
   "execution_count": 12,
   "id": "b14cecb4",
   "metadata": {},
   "outputs": [
    {
     "name": "stdout",
     "output_type": "stream",
     "text": [
      " Asif Shaik\n"
     ]
    }
   ],
   "source": [
    "print(fullname.title())  # title function"
   ]
  },
  {
   "cell_type": "code",
   "execution_count": 13,
   "id": "004d6ed2",
   "metadata": {},
   "outputs": [
    {
     "name": "stdout",
     "output_type": "stream",
     "text": [
      " ASIF SHAIK\n"
     ]
    }
   ],
   "source": [
    "print(fullname.upper()) # capitalization"
   ]
  },
  {
   "cell_type": "code",
   "execution_count": 15,
   "id": "90126c80",
   "metadata": {},
   "outputs": [
    {
     "name": "stdout",
     "output_type": "stream",
     "text": [
      " Good work!,  Asif Shaik\n"
     ]
    }
   ],
   "source": [
    "message = f\" Good work!, {fullname.title()}\"\n",
    "print(message)"
   ]
  },
  {
   "cell_type": "code",
   "execution_count": 21,
   "id": "d8a340b6",
   "metadata": {},
   "outputs": [
    {
     "name": "stdout",
     "output_type": "stream",
     "text": [
      "favourite language: pythoncjavareactswiftc++pascal\n"
     ]
    }
   ],
   "source": [
    "# concept of Delimiters\n",
    "\n",
    "fav_lang = 'favourite language: pythoncjavareactswiftc++pascal'\n",
    "print(fav_lang)"
   ]
  },
  {
   "cell_type": "code",
   "execution_count": 22,
   "id": "868d32fc",
   "metadata": {},
   "outputs": [
    {
     "name": "stdout",
     "output_type": "stream",
     "text": [
      "favourite language: \n",
      "python\n",
      "c\n",
      "java\n",
      "react\n",
      "swift\n",
      "c++\n",
      "pascal\n"
     ]
    }
   ],
   "source": [
    "# \\n for new line\n",
    "\n",
    "fav_lang = 'favourite language: \\npython\\nc\\njava\\nreact\\nswift\\nc++\\npascal'\n",
    "print(fav_lang)"
   ]
  },
  {
   "cell_type": "code",
   "execution_count": 23,
   "id": "3f07f25f",
   "metadata": {},
   "outputs": [
    {
     "name": "stdout",
     "output_type": "stream",
     "text": [
      "favourite language: \n",
      "\tpython\n",
      "\tc\n",
      "\tjava\n",
      "\treact\n",
      "\tswift\n",
      "\tc++\n",
      "\tpascal\n"
     ]
    }
   ],
   "source": [
    "# \\t tab\n",
    "fav_lang = 'favourite language: \\n\\tpython\\n\\tc\\n\\tjava\\n\\treact\\n\\tswift\\n\\tc++\\n\\tpascal'\n",
    "print(fav_lang)"
   ]
  },
  {
   "cell_type": "code",
   "execution_count": null,
   "id": "f55652b4",
   "metadata": {},
   "outputs": [],
   "source": [
    "# removing white spaces from string:"
   ]
  },
  {
   "cell_type": "code",
   "execution_count": 24,
   "id": "5db07887",
   "metadata": {},
   "outputs": [
    {
     "name": "stdout",
     "output_type": "stream",
     "text": [
      "asif\n"
     ]
    }
   ],
   "source": [
    "name = ' asif'\n",
    "print(name.lstrip()) # left stripping white spaces"
   ]
  },
  {
   "cell_type": "code",
   "execution_count": 25,
   "id": "2b25f021",
   "metadata": {},
   "outputs": [
    {
     "name": "stdout",
     "output_type": "stream",
     "text": [
      "asif\n"
     ]
    }
   ],
   "source": [
    "name2 = 'asif  '\n",
    "print(name2.rstrip()) # right stripping white spaces"
   ]
  },
  {
   "cell_type": "code",
   "execution_count": 26,
   "id": "9b352ead",
   "metadata": {},
   "outputs": [
    {
     "name": "stdout",
     "output_type": "stream",
     "text": [
      "asif\n"
     ]
    }
   ],
   "source": [
    "name3 = '  asif   '\n",
    "print(name3.strip()) # stripping of all white spaces"
   ]
  },
  {
   "cell_type": "code",
   "execution_count": 32,
   "id": "22a103ce",
   "metadata": {},
   "outputs": [],
   "source": [
    "import this"
   ]
  },
  {
   "cell_type": "code",
   "execution_count": null,
   "id": "2f40551b",
   "metadata": {},
   "outputs": [],
   "source": []
  },
  {
   "cell_type": "code",
   "execution_count": null,
   "id": "8fc1bccc",
   "metadata": {},
   "outputs": [],
   "source": []
  }
 ],
 "metadata": {
  "kernelspec": {
   "display_name": "Python 3 (ipykernel)",
   "language": "python",
   "name": "python3"
  },
  "language_info": {
   "codemirror_mode": {
    "name": "ipython",
    "version": 3
   },
   "file_extension": ".py",
   "mimetype": "text/x-python",
   "name": "python",
   "nbconvert_exporter": "python",
   "pygments_lexer": "ipython3",
   "version": "3.11.5"
  }
 },
 "nbformat": 4,
 "nbformat_minor": 5
}
